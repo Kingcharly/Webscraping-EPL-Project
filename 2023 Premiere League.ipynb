{
 "cells": [
  {
   "cell_type": "code",
   "execution_count": 54,
   "id": "efca5bd0-7963-4168-9ad7-e2a0de6de2a0",
   "metadata": {},
   "outputs": [],
   "source": [
    "import requests"
   ]
  },
  {
   "cell_type": "code",
   "execution_count": 55,
   "id": "ec4818c8-fa0b-44d9-a6b0-bf2390b3ba88",
   "metadata": {},
   "outputs": [],
   "source": [
    "from bs4 import BeautifulSoup\n",
    "import pandas as pd\n",
    "import time"
   ]
  },
  {
   "cell_type": "code",
   "execution_count": 56,
   "id": "a1c4e9fc-e30a-49e3-981b-40cdf31733ef",
   "metadata": {},
   "outputs": [],
   "source": [
    "standings_url = \"https://fbref.com/en/comps/9/Premier-League-Stats\""
   ]
  },
  {
   "cell_type": "code",
   "execution_count": 57,
   "id": "132a7774-324f-4710-b6a1-ed3d4dfb8614",
   "metadata": {},
   "outputs": [],
   "source": [
    "data = requests.get(standings_url)"
   ]
  },
  {
   "cell_type": "code",
   "execution_count": 63,
   "id": "a890221c-06a3-4f41-abc2-a078d72f3d87",
   "metadata": {},
   "outputs": [],
   "source": [
    "soup = BeautifulSoup(data.text)"
   ]
  },
  {
   "cell_type": "code",
   "execution_count": 66,
   "id": "db96b095-3217-424a-ac29-5923afcf0479",
   "metadata": {},
   "outputs": [
    {
     "ename": "IndexError",
     "evalue": "list index out of range",
     "output_type": "error",
     "traceback": [
      "\u001b[1;31m---------------------------------------------------------------------------\u001b[0m",
      "\u001b[1;31mIndexError\u001b[0m                                Traceback (most recent call last)",
      "\u001b[1;32m~\\AppData\\Local\\Temp\\ipykernel_73236\\1600810149.py\u001b[0m in \u001b[0;36m<module>\u001b[1;34m\u001b[0m\n\u001b[1;32m----> 1\u001b[1;33m \u001b[0mstandings_table\u001b[0m \u001b[1;33m=\u001b[0m \u001b[0msoup\u001b[0m\u001b[1;33m.\u001b[0m\u001b[0mselect\u001b[0m\u001b[1;33m(\u001b[0m\u001b[1;34m'table.stats_table'\u001b[0m\u001b[1;33m)\u001b[0m\u001b[1;33m[\u001b[0m\u001b[1;36m0\u001b[0m\u001b[1;33m]\u001b[0m\u001b[1;33m\u001b[0m\u001b[1;33m\u001b[0m\u001b[0m\n\u001b[0m",
      "\u001b[1;31mIndexError\u001b[0m: list index out of range"
     ]
    }
   ],
   "source": [
    "standings_table = soup.select('table.stats_table')[0]"
   ]
  },
  {
   "cell_type": "code",
   "execution_count": null,
   "id": "3f2fc8a2-c94e-453f-aab5-df724490cbbb",
   "metadata": {},
   "outputs": [],
   "source": [
    "links = standings_table.find_all('a')"
   ]
  },
  {
   "cell_type": "code",
   "execution_count": null,
   "id": "92377a46-86fd-4f46-a920-533c6df6f0b1",
   "metadata": {},
   "outputs": [],
   "source": [
    "links = [l.get(\"href\") for l in links]"
   ]
  },
  {
   "cell_type": "code",
   "execution_count": null,
   "id": "63af9725-49e5-4bc8-b180-15b6adf1f833",
   "metadata": {},
   "outputs": [],
   "source": [
    "links = [l for l in links if \"/squads/\" in l]"
   ]
  },
  {
   "cell_type": "code",
   "execution_count": null,
   "id": "5ebc95e5-ec83-46e9-8b08-82b2ff5a29de",
   "metadata": {},
   "outputs": [],
   "source": [
    "teams_url = [f\"https://fbref.com{l}\" for l in links]"
   ]
  },
  {
   "cell_type": "code",
   "execution_count": null,
   "id": "a4643390-6d6b-415a-b207-1aa9197197fe",
   "metadata": {},
   "outputs": [],
   "source": [
    "Mancity = teams_url[0]"
   ]
  },
  {
   "cell_type": "code",
   "execution_count": null,
   "id": "87fbdb7c-49f6-4e39-8647-9383cb1e4c53",
   "metadata": {},
   "outputs": [],
   "source": [
    "data = requests.get(team_url)"
   ]
  },
  {
   "cell_type": "code",
   "execution_count": null,
   "id": "f284c47b-9e4d-4120-9f9c-3efb643c8830",
   "metadata": {},
   "outputs": [],
   "source": [
    "player_stats = pd.read_html(data.text, match=\"Standard Stats\")"
   ]
  },
  {
   "cell_type": "code",
   "execution_count": null,
   "id": "91b8ff55-5486-4f95-a4ca-d7dc04ea3a49",
   "metadata": {},
   "outputs": [],
   "source": [
    "player_stats[0]"
   ]
  },
  {
   "cell_type": "code",
   "execution_count": null,
   "id": "ece24017-5bfd-499f-9018-a04e06c901d2",
   "metadata": {},
   "outputs": [],
   "source": [
    "westham = team_urls[1]\n",
    "data = requests.get(westham)\n",
    "player_stats = pd.read_html(data.text, match=\"Standard Stats\")[0]"
   ]
  },
  {
   "cell_type": "code",
   "execution_count": null,
   "id": "7d7ee544-1da1-4700-8351-be3610cc6b48",
   "metadata": {},
   "outputs": [],
   "source": []
  },
  {
   "cell_type": "code",
   "execution_count": null,
   "id": "8374968d-3ec5-4305-b994-42ccaa3364a4",
   "metadata": {},
   "outputs": [],
   "source": [
    "years = list(range(2023,2021,-1))"
   ]
  },
  {
   "cell_type": "code",
   "execution_count": null,
   "id": "4be7627f-f8f0-4f12-a0f0-bf964f162c5f",
   "metadata": {},
   "outputs": [],
   "source": [
    "years"
   ]
  },
  {
   "cell_type": "code",
   "execution_count": null,
   "id": "92eb4ca2-c8f7-445b-b7c0-a2a0faa1150b",
   "metadata": {},
   "outputs": [],
   "source": [
    "all_matches = []"
   ]
  },
  {
   "cell_type": "code",
   "execution_count": null,
   "id": "ee1bd415-100f-41ab-82b5-3d2aed29bc15",
   "metadata": {},
   "outputs": [],
   "source": [
    "standings_url = \"https://fbref.com/en/comps/9/Premier-League-Stats\""
   ]
  },
  {
   "cell_type": "code",
   "execution_count": null,
   "id": "f1d58abc-dc47-458c-b626-fef638b7fbca",
   "metadata": {},
   "outputs": [],
   "source": [
    "for year in years:\n",
    "    data = requests.get(standings_url)\n",
    "    soup = BeautifulSoup(data.text)\n",
    "    standings_table = soup.select('table.stats_table')[0]\n",
    "    \n",
    "    links = [l.get(\"href\") for l in standings_table.find_all('a')]\n",
    "    links = [l for l in links if \"/squads/\" in l]\n",
    "    team_urls = [f\"https://fbref.com{l}\" for l in links]\n",
    "    \n",
    "    previous_season = soup.select(\"a.prev\")[0].get(\"href\")\n",
    "    standings_url = f\"https://fbref.com/{previous_season}\"\n",
    "    \n",
    "    for team_url in team_urls:\n",
    "        team_name = team_url.split(\"/\")[-1].replace(\"-Stats\",\"\").replace(\"-\",\"\")\n",
    "        \n",
    "        data = requests.get(team_url)\n",
    "        player_stats = pd.read_html(data.text, match=\"Standard Stats\")[0]\n",
    "        \n",
    "        soup = BeautifulSoup(data.text)\n",
    "        links = [l.get(\"href\") for l in soup.find_all('a')]\n",
    "        links = [l for l in links if l and \"all_comps/shooting/\" in l]\n",
    "        data = requests.get(f'https://fbref.com{links[0]}')\n",
    "        shooting = pd.read_html(data.text, match = \"Shooting\")[0]\n",
    "        shooting.columns = shooting.columns.droplevel()\n",
    "        \n",
    "        try:\n",
    "            team_data = player_stats.merge(shooting[[\"Date\",\"Sh\",\"SoT\",\"Dist\",\"FK\",\"PK\",\"PKatt\"]])\n",
    "        except ValueError:\n",
    "            pass\n",
    "\n",
    "        team_data['Season'] = year\n",
    "        team_data[\"Team\"] = team_name\n",
    "        all_matches.append(team_data)\n",
    "        time.sleep(1)\n"
   ]
  },
  {
   "cell_type": "code",
   "execution_count": null,
   "id": "8252adcb-3861-44e9-85b6-df36f100e503",
   "metadata": {},
   "outputs": [],
   "source": [
    "matches_df = pd.concat(all_matches)"
   ]
  },
  {
   "cell_type": "code",
   "execution_count": null,
   "id": "4f206164-b0e9-4b0a-a64f-d6e009b55754",
   "metadata": {},
   "outputs": [],
   "source": [
    "match_df.columns = [c.lower() for c in match_df.columns]"
   ]
  },
  {
   "cell_type": "code",
   "execution_count": null,
   "id": "5ca9bd59-debd-4d7e-91c7-cf75e3ef9133",
   "metadata": {},
   "outputs": [],
   "source": [
    "match_df.to_csv(\"matches.csv\")"
   ]
  }
 ],
 "metadata": {
  "kernelspec": {
   "display_name": "Python 3 (ipykernel)",
   "language": "python",
   "name": "python3"
  },
  "language_info": {
   "codemirror_mode": {
    "name": "ipython",
    "version": 3
   },
   "file_extension": ".py",
   "mimetype": "text/x-python",
   "name": "python",
   "nbconvert_exporter": "python",
   "pygments_lexer": "ipython3",
   "version": "3.9.13"
  }
 },
 "nbformat": 4,
 "nbformat_minor": 5
}
